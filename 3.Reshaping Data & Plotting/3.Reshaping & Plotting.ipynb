{
 "cells": [
  {
   "cell_type": "code",
   "execution_count": 1,
   "metadata": {},
   "outputs": [],
   "source": [
    "t=[[1,2,3],[4,5,6],[7,8,9]]"
   ]
  },
  {
   "cell_type": "code",
   "execution_count": 2,
   "metadata": {},
   "outputs": [],
   "source": [
    "a=list(map(lambda i:(i[0]+i[1])*i[2],t))"
   ]
  },
  {
   "cell_type": "code",
   "execution_count": 3,
   "metadata": {},
   "outputs": [
    {
     "data": {
      "text/plain": [
       "[9, 54, 135]"
      ]
     },
     "execution_count": 3,
     "metadata": {},
     "output_type": "execute_result"
    }
   ],
   "source": [
    "a"
   ]
  },
  {
   "cell_type": "code",
   "execution_count": 4,
   "metadata": {},
   "outputs": [],
   "source": [
    "import numpy as np\n",
    "import scipy.stats as st1\n",
    "import statistics as st2"
   ]
  },
  {
   "cell_type": "code",
   "execution_count": 5,
   "metadata": {},
   "outputs": [
    {
     "ename": "SyntaxError",
     "evalue": "invalid syntax (<ipython-input-5-a3739c2c632c>, line 2)",
     "output_type": "error",
     "traceback": [
      "\u001b[1;36m  File \u001b[1;32m\"<ipython-input-5-a3739c2c632c>\"\u001b[1;36m, line \u001b[1;32m2\u001b[0m\n\u001b[1;33m    l1=[1,2,3,.....99]\u001b[0m\n\u001b[1;37m                  ^\u001b[0m\n\u001b[1;31mSyntaxError\u001b[0m\u001b[1;31m:\u001b[0m invalid syntax\n"
     ]
    }
   ],
   "source": [
    "# Assignment\n",
    "l1=[1,2,3,.....99]\n",
    "l2=[[1,2,3],[4,5,6],.....[97,98,99]]"
   ]
  },
  {
   "cell_type": "markdown",
   "metadata": {},
   "source": [
    "def chunks(l, n):\n",
    "    return [l[i:i+n] for i in range(0, len(l), n)]"
   ]
  },
  {
   "cell_type": "code",
   "execution_count": 22,
   "metadata": {},
   "outputs": [
    {
     "ename": "IndexError",
     "evalue": "list assignment index out of range",
     "output_type": "error",
     "traceback": [
      "\u001b[1;31m---------------------------------------------------------------------------\u001b[0m",
      "\u001b[1;31mIndexError\u001b[0m                                Traceback (most recent call last)",
      "\u001b[1;32m<ipython-input-22-1f8836acebf5>\u001b[0m in \u001b[0;36m<module>\u001b[1;34m()\u001b[0m\n\u001b[0;32m      2\u001b[0m \u001b[0mn\u001b[0m\u001b[1;33m=\u001b[0m\u001b[1;36m3\u001b[0m\u001b[1;33m\u001b[0m\u001b[0m\n\u001b[0;32m      3\u001b[0m \u001b[1;32mfor\u001b[0m \u001b[0mi\u001b[0m \u001b[1;32min\u001b[0m \u001b[0mrange\u001b[0m\u001b[1;33m(\u001b[0m\u001b[1;36m0\u001b[0m\u001b[1;33m,\u001b[0m\u001b[1;36m100\u001b[0m\u001b[1;33m,\u001b[0m\u001b[1;36m3\u001b[0m\u001b[1;33m)\u001b[0m\u001b[1;33m:\u001b[0m\u001b[1;33m\u001b[0m\u001b[0m\n\u001b[1;32m----> 4\u001b[1;33m     \u001b[0ml\u001b[0m\u001b[1;33m[\u001b[0m\u001b[0mi\u001b[0m\u001b[1;33m]\u001b[0m\u001b[1;33m=\u001b[0m\u001b[0ml\u001b[0m\u001b[1;33m.\u001b[0m\u001b[0mappend\u001b[0m\u001b[1;33m(\u001b[0m\u001b[0mi\u001b[0m\u001b[1;33m+\u001b[0m\u001b[0mn\u001b[0m\u001b[1;33m)\u001b[0m\u001b[1;33m\u001b[0m\u001b[0m\n\u001b[0m\u001b[0;32m      5\u001b[0m \u001b[0mprint\u001b[0m\u001b[1;33m(\u001b[0m\u001b[0ml\u001b[0m\u001b[1;33m)\u001b[0m\u001b[1;33m\u001b[0m\u001b[0m\n",
      "\u001b[1;31mIndexError\u001b[0m: list assignment index out of range"
     ]
    }
   ],
   "source": [
    "l=[]\n",
    "n=3\n",
    "for i in range(0,100,3):\n",
    "    l[i]=l.append(i+n)\n",
    "print(l)"
   ]
  },
  {
   "cell_type": "code",
   "execution_count": 6,
   "metadata": {},
   "outputs": [
    {
     "data": {
      "text/plain": [
       "array([[ 1,  2,  3],\n",
       "       [ 4,  5,  6],\n",
       "       [ 7,  8,  9],\n",
       "       [10, 11, 12],\n",
       "       [13, 14, 15],\n",
       "       [16, 17, 18],\n",
       "       [19, 20, 21],\n",
       "       [22, 23, 24],\n",
       "       [25, 26, 27],\n",
       "       [28, 29, 30],\n",
       "       [31, 32, 33],\n",
       "       [34, 35, 36],\n",
       "       [37, 38, 39],\n",
       "       [40, 41, 42],\n",
       "       [43, 44, 45],\n",
       "       [46, 47, 48],\n",
       "       [49, 50, 51],\n",
       "       [52, 53, 54],\n",
       "       [55, 56, 57],\n",
       "       [58, 59, 60],\n",
       "       [61, 62, 63],\n",
       "       [64, 65, 66],\n",
       "       [67, 68, 69],\n",
       "       [70, 71, 72],\n",
       "       [73, 74, 75],\n",
       "       [76, 77, 78],\n",
       "       [79, 80, 81],\n",
       "       [82, 83, 84],\n",
       "       [85, 86, 87],\n",
       "       [88, 89, 90],\n",
       "       [91, 92, 93],\n",
       "       [94, 95, 96],\n",
       "       [97, 98, 99]])"
      ]
     },
     "execution_count": 6,
     "metadata": {},
     "output_type": "execute_result"
    }
   ],
   "source": [
    "a = np.arange(1,100).reshape(33,3)\n",
    "a"
   ]
  },
  {
   "cell_type": "code",
   "execution_count": 7,
   "metadata": {},
   "outputs": [
    {
     "data": {
      "text/plain": [
       "[[1, 2, 3],\n",
       " [4, 5, 6],\n",
       " [7, 8, 9],\n",
       " [10, 11, 12],\n",
       " [13, 14, 15],\n",
       " [16, 17, 18],\n",
       " [19, 20, 21],\n",
       " [22, 23, 24],\n",
       " [25, 26, 27],\n",
       " [28, 29, 30],\n",
       " [31, 32, 33],\n",
       " [34, 35, 36],\n",
       " [37, 38, 39],\n",
       " [40, 41, 42],\n",
       " [43, 44, 45],\n",
       " [46, 47, 48],\n",
       " [49, 50, 51],\n",
       " [52, 53, 54],\n",
       " [55, 56, 57],\n",
       " [58, 59, 60],\n",
       " [61, 62, 63],\n",
       " [64, 65, 66],\n",
       " [67, 68, 69],\n",
       " [70, 71, 72],\n",
       " [73, 74, 75],\n",
       " [76, 77, 78],\n",
       " [79, 80, 81],\n",
       " [82, 83, 84],\n",
       " [85, 86, 87],\n",
       " [88, 89, 90],\n",
       " [91, 92, 93],\n",
       " [94, 95, 96],\n",
       " [97, 98, 99]]"
      ]
     },
     "execution_count": 7,
     "metadata": {},
     "output_type": "execute_result"
    }
   ],
   "source": [
    "a.tolist()"
   ]
  },
  {
   "cell_type": "code",
   "execution_count": 8,
   "metadata": {},
   "outputs": [
    {
     "name": "stdout",
     "output_type": "stream",
     "text": [
      "[1, 2, 3, 4, 5, 6, 7, 8, 9, 10, 11, 12, 13, 14, 15, 16, 17, 18, 19, 20, 21, 22, 23, 24, 25, 26, 27, 28, 29, 30, 31, 32, 33, 34, 35, 36, 37, 38, 39, 40, 41, 42, 43, 44, 45, 46, 47, 48, 49, 50, 51, 52, 53, 54, 55, 56, 57, 58, 59, 60, 61, 62, 63, 64, 65, 66, 67, 68, 69, 70, 71, 72, 73, 74, 75, 76, 77, 78, 79, 80, 81, 82, 83, 84, 85, 86, 87, 88, 89, 90, 91, 92, 93, 94, 95, 96, 97, 98, 99]\n"
     ]
    }
   ],
   "source": [
    "l1=[]\n",
    "for i in range(1,100):\n",
    "    l1.append(i)\n",
    "print(l1)"
   ]
  },
  {
   "cell_type": "code",
   "execution_count": 9,
   "metadata": {},
   "outputs": [],
   "source": [
    "import pandas as pd"
   ]
  },
  {
   "cell_type": "code",
   "execution_count": 10,
   "metadata": {},
   "outputs": [
    {
     "data": {
      "text/plain": [
       "array([[4, 4],\n",
       "       [2, 4],\n",
       "       [2, 5],\n",
       "       ...,\n",
       "       [2, 6],\n",
       "       [5, 6],\n",
       "       [5, 4]])"
      ]
     },
     "execution_count": 10,
     "metadata": {},
     "output_type": "execute_result"
    }
   ],
   "source": [
    "dice_throw=np.random.randint(1,7,size=(1000,2))\n",
    "dice_throw"
   ]
  },
  {
   "cell_type": "code",
   "execution_count": 11,
   "metadata": {},
   "outputs": [
    {
     "data": {
      "text/plain": [
       "array([ 8,  6,  7,  8,  6,  7, 10,  4,  2,  7,  9, 11,  8,  4,  5,  7,  5,\n",
       "        7, 10,  6,  7,  8, 11,  7,  4,  6,  4,  6,  6,  3,  9,  9,  7, 12,\n",
       "        3,  8,  6,  5,  7,  5,  8,  3,  5,  6, 12, 11,  8,  2,  7,  4,  6,\n",
       "        6, 12,  9,  8,  6,  9,  9,  4,  7,  5,  4,  5,  7, 11,  8, 11,  5,\n",
       "        7,  6,  5, 10,  5,  8,  8,  4,  6, 12,  5,  5,  7,  6, 11,  9, 10,\n",
       "        8,  5,  5,  8,  3,  8,  6,  4, 10,  9,  3,  6,  3,  8, 10,  5, 10,\n",
       "        7,  6, 10,  5,  8,  4, 11,  7,  7,  7,  4, 11,  8, 10, 11,  8,  8,\n",
       "        7,  5, 10,  9,  7,  3,  7,  4, 11,  9,  4,  7,  5,  5,  8, 10,  9,\n",
       "        4,  7,  8,  6, 12,  2,  5,  6,  5,  5,  6,  9,  2,  9, 11,  6,  6,\n",
       "        3,  9,  8,  3, 11,  9,  9,  9,  9,  8, 10,  7,  8,  7,  3,  8,  7,\n",
       "        6,  5,  9,  2,  5,  3,  7,  6,  3,  5,  2, 12,  7,  6,  6, 10,  7,\n",
       "        8,  7, 12, 10,  6,  7,  3,  6,  5,  7,  6, 11,  5,  7, 10,  5, 10,\n",
       "        8,  6,  8,  9, 10,  2,  2,  6,  7,  4, 10,  6, 11,  7,  9,  7,  2,\n",
       "        6,  6,  7,  7,  7,  6,  8,  9, 10,  4,  5, 11,  9,  8, 11,  4,  7,\n",
       "        9,  5,  4,  7,  9,  9,  7,  8,  9,  8,  9,  3, 10,  5,  5, 10,  4,\n",
       "        6,  4,  3,  8,  5,  7, 12,  5,  4,  5, 10,  9,  7, 10,  9,  7,  5,\n",
       "        2,  9,  6, 10,  4,  8,  5,  6,  9, 10,  4, 11,  5, 10, 10, 10,  8,\n",
       "        3,  4,  2,  8,  6,  6, 10, 12,  4,  8,  9,  4, 10,  8,  7,  9,  6,\n",
       "        7, 12,  6,  6,  8,  2,  5,  8,  8,  8,  7,  7,  9,  6,  8,  7,  4,\n",
       "        5,  3,  5, 10, 10,  9,  9,  8,  7,  2,  7, 11,  9,  4,  6, 11,  7,\n",
       "        7, 10,  6,  2,  2,  6, 10,  8,  3, 10,  4,  6,  5, 11,  8,  9,  5,\n",
       "        7,  8,  7, 10,  4,  8,  5,  9, 10,  5,  9,  7,  6,  9,  9,  3, 11,\n",
       "        6,  9,  3,  7,  6,  4,  4,  7,  6,  6, 12,  5,  8,  3,  4,  2, 11,\n",
       "        9,  6,  7, 11,  9,  6,  9,  7,  6,  4,  3, 11, 12,  5,  3,  7,  8,\n",
       "        4,  5,  5,  8, 10,  8,  5, 11,  6, 10,  7,  8,  3,  5, 10,  9, 12,\n",
       "        7,  6,  7,  3,  3,  9,  8,  7, 10,  9,  5,  9,  8,  8,  6, 12,  5,\n",
       "        5, 10,  3, 11,  8,  9,  9,  8, 10,  6,  7,  9,  7,  8,  9,  6, 11,\n",
       "        5,  4,  8,  4,  9,  9, 11, 11,  8,  8,  9,  5,  5,  4,  8,  7,  7,\n",
       "        8,  3,  4, 11,  5,  3, 12, 12,  6,  9,  5, 11,  7,  7, 11,  9,  8,\n",
       "        5,  6, 12,  3,  8,  5,  3,  8,  7,  9,  6,  8,  3,  6, 12,  7,  9,\n",
       "        7,  2, 11,  4,  6,  9,  7,  4, 11,  5,  5,  6,  8, 10,  2,  5,  8,\n",
       "        2,  5,  7,  7,  6,  8, 10,  7,  3,  7,  5,  4,  7,  2, 10,  8,  6,\n",
       "        9,  9,  5, 10,  9, 10,  9,  5, 11,  5,  9,  7,  7, 10,  5,  3,  4,\n",
       "        7,  9,  8, 10,  8, 12,  5,  3,  5,  8,  6,  7,  4,  8,  7,  8,  8,\n",
       "        9,  9,  5,  6,  7,  6, 10, 10,  6,  4, 10,  6, 10,  8,  6,  8,  4,\n",
       "        4,  7,  5,  8,  2, 10,  7,  6,  8, 11,  5,  5,  3, 10,  4, 10,  7,\n",
       "        4,  9,  8, 11,  5,  5,  4,  9,  7,  8,  8,  5, 10,  5,  8,  6,  3,\n",
       "        5,  7,  9,  7,  8, 11,  9,  4,  9, 10, 11,  4,  4,  7,  2,  7,  8,\n",
       "        3,  4,  8,  5,  8,  3,  7,  9,  7,  6, 11,  7,  8, 10, 10,  9,  4,\n",
       "       11,  9,  3,  5,  2,  9,  7,  7,  9, 10, 12,  8,  8,  9,  2,  5,  6,\n",
       "        8,  2, 12,  8,  6,  9,  8,  7,  6,  9,  9,  6,  6,  5,  9, 12,  7,\n",
       "       11,  6,  6,  8,  8,  8,  7, 11,  7,  9,  7,  5,  9,  5, 12,  7, 10,\n",
       "        8, 12, 10,  8,  5,  5,  5, 10,  8,  9,  4,  5,  5, 10,  3,  9,  5,\n",
       "        5,  8,  5,  3,  7, 10, 11,  7,  8,  7,  9,  7, 11,  9,  8,  9,  4,\n",
       "        2,  6,  5,  5,  9,  7,  7,  9, 10,  8,  8,  7,  3,  9,  3, 10,  8,\n",
       "        6,  7,  2,  6,  7,  9, 10,  3,  7,  9,  8,  8,  6, 10,  6,  7,  8,\n",
       "        3,  4,  5,  5, 12,  5,  6,  9,  9, 11,  9,  5,  6,  3,  7,  6, 11,\n",
       "        3,  7,  6,  9,  8,  9,  3,  6,  8, 10,  5,  6,  7,  7,  8,  6,  2,\n",
       "        7,  9,  8,  8,  5,  5, 11,  6,  9, 11,  8,  2,  3,  6,  5,  7,  8,\n",
       "        3, 10,  2, 11,  6,  7,  4,  7,  5,  4,  3,  9, 11,  7, 10, 12,  8,\n",
       "        7,  7,  5,  4, 11,  8,  6,  5,  6,  5,  6,  6,  9,  8,  7, 12,  7,\n",
       "        2,  4, 10,  7,  6, 12,  8,  6,  6,  9,  7,  7,  6,  6,  4,  7, 10,\n",
       "       10,  6,  7,  4, 12, 12,  5,  8,  9,  6,  7, 12,  8, 12,  7,  5,  2,\n",
       "        9,  7,  7,  8,  7,  5,  8,  7,  6,  4,  8,  6,  7,  7,  9,  6,  8,\n",
       "        5,  7,  9,  9, 11, 10,  6,  5,  6,  8,  8,  8,  8,  7,  7,  2,  7,\n",
       "        6, 12,  8,  6,  6,  5,  8,  2, 11,  6, 10,  9,  9,  6,  6,  9,  8,\n",
       "        8, 10, 10,  5, 10, 12, 10,  8,  9,  8,  6,  8,  5,  9,  6,  8,  8,\n",
       "        9,  7,  7,  7, 10,  4,  7,  6, 12,  7,  4,  5,  9,  7, 11, 11,  8,\n",
       "        8,  8,  6,  9,  9, 11,  7,  5,  7, 12,  7,  8, 11,  9])"
      ]
     },
     "execution_count": 11,
     "metadata": {},
     "output_type": "execute_result"
    }
   ],
   "source": [
    "dice_sum=np.array(list(map(lambda i:i[0]+i[1],dice_throw)))\n",
    "dice_sum"
   ]
  },
  {
   "cell_type": "code",
   "execution_count": 12,
   "metadata": {},
   "outputs": [],
   "source": [
    "import matplotlib.pyplot as plt\n",
    "import matplotlib.mlab as mlab"
   ]
  },
  {
   "cell_type": "code",
   "execution_count": 26,
   "metadata": {},
   "outputs": [
    {
     "data": {
      "image/png": "[encoded data removed]",
      "text/plain": [
       "<Figure size 432x288 with 1 Axes>"
      ]
     },
     "metadata": {
      "needs_background": "light"
     },
     "output_type": "display_data"
    }
   ],
   "source": [
    "fig,plot=plt.subplots()\n",
    "plot=plt.hist(dice_sum,bins=np.arange(2,14)-0.5)\n",
    "\n",
    "plt.xticks(range(10))\n",
    "plt.xlim([1,13])\n",
    "#plot.set_xticks(range(2,13))\n",
    "mu=dice_sum.mean()\n",
    "variance=st2.pvariance(dice_sum)\n",
    "std=st2.pstdev(dice_sum)\n",
    "\n",
    "x=np.linspace(mu-3*std,mu+3*std,1000)\n",
    "#plt.plot(x,mlab.normpdf(x,mu,std)*1000)\n",
    "plt.show()"
   ]
  },
  {
   "cell_type": "code",
   "execution_count": 27,
   "metadata": {},
   "outputs": [],
   "source": [
    "import math"
   ]
  },
  {
   "cell_type": "code",
   "execution_count": 28,
   "metadata": {},
   "outputs": [
    {
     "data": {
      "text/plain": [
       "array([[  1,   2],\n",
       "       [  3,   4],\n",
       "       [  5,   6],\n",
       "       [  7,   8],\n",
       "       [  9,  10],\n",
       "       [ 11,  12],\n",
       "       [ 13,  14],\n",
       "       [ 15,  16],\n",
       "       [ 17,  18],\n",
       "       [ 19,  20],\n",
       "       [ 21,  22],\n",
       "       [ 23,  24],\n",
       "       [ 25,  26],\n",
       "       [ 27,  28],\n",
       "       [ 29,  30],\n",
       "       [ 31,  32],\n",
       "       [ 33,  34],\n",
       "       [ 35,  36],\n",
       "       [ 37,  38],\n",
       "       [ 39,  40],\n",
       "       [ 41,  42],\n",
       "       [ 43,  44],\n",
       "       [ 45,  46],\n",
       "       [ 47,  48],\n",
       "       [ 49,  50],\n",
       "       [ 51,  52],\n",
       "       [ 53,  54],\n",
       "       [ 55,  56],\n",
       "       [ 57,  58],\n",
       "       [ 59,  60],\n",
       "       [ 61,  62],\n",
       "       [ 63,  64],\n",
       "       [ 65,  66],\n",
       "       [ 67,  68],\n",
       "       [ 69,  70],\n",
       "       [ 71,  72],\n",
       "       [ 73,  74],\n",
       "       [ 75,  76],\n",
       "       [ 77,  78],\n",
       "       [ 79,  80],\n",
       "       [ 81,  82],\n",
       "       [ 83,  84],\n",
       "       [ 85,  86],\n",
       "       [ 87,  88],\n",
       "       [ 89,  90],\n",
       "       [ 91,  92],\n",
       "       [ 93,  94],\n",
       "       [ 95,  96],\n",
       "       [ 97,  98],\n",
       "       [ 99, 100],\n",
       "       [101, 102],\n",
       "       [103, 104],\n",
       "       [105, 106],\n",
       "       [107, 108],\n",
       "       [109, 110],\n",
       "       [111, 112],\n",
       "       [113, 114],\n",
       "       [115, 116],\n",
       "       [117, 118],\n",
       "       [119, 120],\n",
       "       [121, 122],\n",
       "       [123, 124],\n",
       "       [125, 126],\n",
       "       [127, 128],\n",
       "       [129, 130],\n",
       "       [131, 132],\n",
       "       [133, 134],\n",
       "       [135, 136],\n",
       "       [137, 138],\n",
       "       [139, 140],\n",
       "       [141, 142],\n",
       "       [143, 144],\n",
       "       [145, 146],\n",
       "       [147, 148],\n",
       "       [149, 150],\n",
       "       [151, 152],\n",
       "       [153, 154],\n",
       "       [155, 156],\n",
       "       [157, 158],\n",
       "       [159, 160],\n",
       "       [161, 162],\n",
       "       [163, 164],\n",
       "       [165, 166],\n",
       "       [167, 168],\n",
       "       [169, 170],\n",
       "       [171, 172],\n",
       "       [173, 174],\n",
       "       [175, 176],\n",
       "       [177, 178],\n",
       "       [179, 180],\n",
       "       [181, 182],\n",
       "       [183, 184],\n",
       "       [185, 186],\n",
       "       [187, 188],\n",
       "       [189, 190],\n",
       "       [191, 192],\n",
       "       [193, 194],\n",
       "       [195, 196],\n",
       "       [197, 198],\n",
       "       [199, 200],\n",
       "       [201, 202],\n",
       "       [203, 204],\n",
       "       [205, 206],\n",
       "       [207, 208],\n",
       "       [209, 210],\n",
       "       [211, 212],\n",
       "       [213, 214],\n",
       "       [215, 216],\n",
       "       [217, 218],\n",
       "       [219, 220],\n",
       "       [221, 222],\n",
       "       [223, 224],\n",
       "       [225, 226],\n",
       "       [227, 228],\n",
       "       [229, 230],\n",
       "       [231, 232],\n",
       "       [233, 234],\n",
       "       [235, 236],\n",
       "       [237, 238],\n",
       "       [239, 240],\n",
       "       [241, 242],\n",
       "       [243, 244],\n",
       "       [245, 246],\n",
       "       [247, 248],\n",
       "       [249, 250],\n",
       "       [251, 252],\n",
       "       [253, 254],\n",
       "       [255, 256],\n",
       "       [257, 258],\n",
       "       [259, 260],\n",
       "       [261, 262],\n",
       "       [263, 264],\n",
       "       [265, 266],\n",
       "       [267, 268],\n",
       "       [269, 270],\n",
       "       [271, 272],\n",
       "       [273, 274],\n",
       "       [275, 276],\n",
       "       [277, 278],\n",
       "       [279, 280],\n",
       "       [281, 282],\n",
       "       [283, 284],\n",
       "       [285, 286],\n",
       "       [287, 288],\n",
       "       [289, 290],\n",
       "       [291, 292],\n",
       "       [293, 294],\n",
       "       [295, 296],\n",
       "       [297, 298],\n",
       "       [299, 300],\n",
       "       [301, 302],\n",
       "       [303, 304],\n",
       "       [305, 306],\n",
       "       [307, 308],\n",
       "       [309, 310],\n",
       "       [311, 312],\n",
       "       [313, 314],\n",
       "       [315, 316],\n",
       "       [317, 318],\n",
       "       [319, 320],\n",
       "       [321, 322],\n",
       "       [323, 324],\n",
       "       [325, 326],\n",
       "       [327, 328],\n",
       "       [329, 330],\n",
       "       [331, 332],\n",
       "       [333, 334],\n",
       "       [335, 336],\n",
       "       [337, 338],\n",
       "       [339, 340],\n",
       "       [341, 342],\n",
       "       [343, 344],\n",
       "       [345, 346],\n",
       "       [347, 348],\n",
       "       [349, 350],\n",
       "       [351, 352],\n",
       "       [353, 354],\n",
       "       [355, 356],\n",
       "       [357, 358],\n",
       "       [359, 360],\n",
       "       [361, 362],\n",
       "       [363, 364],\n",
       "       [365, 366],\n",
       "       [367, 368],\n",
       "       [369, 370],\n",
       "       [371, 372],\n",
       "       [373, 374],\n",
       "       [375, 376],\n",
       "       [377, 378],\n",
       "       [379, 380],\n",
       "       [381, 382],\n",
       "       [383, 384],\n",
       "       [385, 386],\n",
       "       [387, 388],\n",
       "       [389, 390],\n",
       "       [391, 392],\n",
       "       [393, 394],\n",
       "       [395, 396],\n",
       "       [397, 398],\n",
       "       [399, 400],\n",
       "       [401, 402],\n",
       "       [403, 404],\n",
       "       [405, 406],\n",
       "       [407, 408],\n",
       "       [409, 410],\n",
       "       [411, 412],\n",
       "       [413, 414],\n",
       "       [415, 416],\n",
       "       [417, 418],\n",
       "       [419, 420],\n",
       "       [421, 422],\n",
       "       [423, 424],\n",
       "       [425, 426],\n",
       "       [427, 428],\n",
       "       [429, 430],\n",
       "       [431, 432],\n",
       "       [433, 434],\n",
       "       [435, 436],\n",
       "       [437, 438],\n",
       "       [439, 440],\n",
       "       [441, 442],\n",
       "       [443, 444],\n",
       "       [445, 446],\n",
       "       [447, 448],\n",
       "       [449, 450],\n",
       "       [451, 452],\n",
       "       [453, 454],\n",
       "       [455, 456],\n",
       "       [457, 458],\n",
       "       [459, 460],\n",
       "       [461, 462],\n",
       "       [463, 464],\n",
       "       [465, 466],\n",
       "       [467, 468],\n",
       "       [469, 470],\n",
       "       [471, 472],\n",
       "       [473, 474],\n",
       "       [475, 476],\n",
       "       [477, 478],\n",
       "       [479, 480],\n",
       "       [481, 482],\n",
       "       [483, 484],\n",
       "       [485, 486],\n",
       "       [487, 488],\n",
       "       [489, 490],\n",
       "       [491, 492],\n",
       "       [493, 494],\n",
       "       [495, 496],\n",
       "       [497, 498],\n",
       "       [499, 500],\n",
       "       [501, 502],\n",
       "       [503, 504],\n",
       "       [505, 506],\n",
       "       [507, 508],\n",
       "       [509, 510],\n",
       "       [511, 512],\n",
       "       [513, 514],\n",
       "       [515, 516],\n",
       "       [517, 518],\n",
       "       [519, 520],\n",
       "       [521, 522],\n",
       "       [523, 524],\n",
       "       [525, 526],\n",
       "       [527, 528],\n",
       "       [529, 530],\n",
       "       [531, 532],\n",
       "       [533, 534],\n",
       "       [535, 536],\n",
       "       [537, 538],\n",
       "       [539, 540],\n",
       "       [541, 542],\n",
       "       [543, 544],\n",
       "       [545, 546],\n",
       "       [547, 548],\n",
       "       [549, 550],\n",
       "       [551, 552],\n",
       "       [553, 554],\n",
       "       [555, 556],\n",
       "       [557, 558],\n",
       "       [559, 560],\n",
       "       [561, 562],\n",
       "       [563, 564],\n",
       "       [565, 566],\n",
       "       [567, 568],\n",
       "       [569, 570],\n",
       "       [571, 572],\n",
       "       [573, 574],\n",
       "       [575, 576],\n",
       "       [577, 578],\n",
       "       [579, 580],\n",
       "       [581, 582],\n",
       "       [583, 584],\n",
       "       [585, 586],\n",
       "       [587, 588],\n",
       "       [589, 590],\n",
       "       [591, 592],\n",
       "       [593, 594],\n",
       "       [595, 596],\n",
       "       [597, 598],\n",
       "       [599, 600]])"
      ]
     },
     "execution_count": 28,
     "metadata": {},
     "output_type": "execute_result"
    }
   ],
   "source": [
    "t=np.arange(1,601).reshape(300,2)\n",
    "t"
   ]
  },
  {
   "cell_type": "code",
   "execution_count": 29,
   "metadata": {},
   "outputs": [
    {
     "data": {
      "text/plain": [
       "array([   3,    7,   11,   15,   19,   23,   27,   31,   35,   39,   43,\n",
       "         47,   51,   55,   59,   63,   67,   71,   75,   79,   83,   87,\n",
       "         91,   95,   99,  103,  107,  111,  115,  119,  123,  127,  131,\n",
       "        135,  139,  143,  147,  151,  155,  159,  163,  167,  171,  175,\n",
       "        179,  183,  187,  191,  195,  199,  203,  207,  211,  215,  219,\n",
       "        223,  227,  231,  235,  239,  243,  247,  251,  255,  259,  263,\n",
       "        267,  271,  275,  279,  283,  287,  291,  295,  299,  303,  307,\n",
       "        311,  315,  319,  323,  327,  331,  335,  339,  343,  347,  351,\n",
       "        355,  359,  363,  367,  371,  375,  379,  383,  387,  391,  395,\n",
       "        399,  403,  407,  411,  415,  419,  423,  427,  431,  435,  439,\n",
       "        443,  447,  451,  455,  459,  463,  467,  471,  475,  479,  483,\n",
       "        487,  491,  495,  499,  503,  507,  511,  515,  519,  523,  527,\n",
       "        531,  535,  539,  543,  547,  551,  555,  559,  563,  567,  571,\n",
       "        575,  579,  583,  587,  591,  595,  599,  603,  607,  611,  615,\n",
       "        619,  623,  627,  631,  635,  639,  643,  647,  651,  655,  659,\n",
       "        663,  667,  671,  675,  679,  683,  687,  691,  695,  699,  703,\n",
       "        707,  711,  715,  719,  723,  727,  731,  735,  739,  743,  747,\n",
       "        751,  755,  759,  763,  767,  771,  775,  779,  783,  787,  791,\n",
       "        795,  799,  803,  807,  811,  815,  819,  823,  827,  831,  835,\n",
       "        839,  843,  847,  851,  855,  859,  863,  867,  871,  875,  879,\n",
       "        883,  887,  891,  895,  899,  903,  907,  911,  915,  919,  923,\n",
       "        927,  931,  935,  939,  943,  947,  951,  955,  959,  963,  967,\n",
       "        971,  975,  979,  983,  987,  991,  995,  999, 1003, 1007, 1011,\n",
       "       1015, 1019, 1023, 1027, 1031, 1035, 1039, 1043, 1047, 1051, 1055,\n",
       "       1059, 1063, 1067, 1071, 1075, 1079, 1083, 1087, 1091, 1095, 1099,\n",
       "       1103, 1107, 1111, 1115, 1119, 1123, 1127, 1131, 1135, 1139, 1143,\n",
       "       1147, 1151, 1155, 1159, 1163, 1167, 1171, 1175, 1179, 1183, 1187,\n",
       "       1191, 1195, 1199])"
      ]
     },
     "execution_count": 29,
     "metadata": {},
     "output_type": "execute_result"
    }
   ],
   "source": [
    "t1=np.array(list(map(lambda i:i[0]+i[1],t)))\n",
    "t1"
   ]
  },
  {
   "cell_type": "code",
   "execution_count": 30,
   "metadata": {},
   "outputs": [
    {
     "data": {
      "text/plain": [
       "array([ 151,  139,   47, 1095,  247, 1115,  927, 1087, 1171, 1019,   83,\n",
       "        823,  543,  575,  283,  663,   71, 1199,  411,  183,  839,  839,\n",
       "        263,  551,  707,  375,  915, 1179,    7,  667,  911, 1047,  851,\n",
       "       1111,  275,    7, 1079,  319,  987,  755,  275,  211,  851, 1035,\n",
       "        335,  583,  243,  691,  363,  675,  803, 1091,  263,  951,  991,\n",
       "        511,  167,  935,  171,  211,  795,  591, 1027,  707,  483,  199,\n",
       "         27, 1159,  375,  871,  547,  439,  519,  235,  135,  687,  879,\n",
       "        559,  971,  439,  771,  919,  631,    7,  799,  323,  375,  763,\n",
       "        815,  235,  627,  683,  411,  931, 1195,  307,  431,  803,  295,\n",
       "        667,  343,  907,   27,  871,   67,  951,   99,  311,  795,  107,\n",
       "        635,  931,  367, 1155,  251, 1035,   91,  847,  179,   31,  939,\n",
       "        539, 1147, 1019,  587,  323,   63,  171,  843,  615,  711,  547,\n",
       "         11,  743,  311,  183, 1111,   15,  195, 1003,  527,  319,  447,\n",
       "        623,  539, 1195,  671, 1191, 1003,  963, 1127, 1087,  959,  803,\n",
       "        547,  187, 1083,  271, 1007,  155,  299, 1023,  115,  235,  879,\n",
       "        975,  279,  967,  859,   99,  715,  535,  659,  547,  203,  447,\n",
       "        359,   95,  939,  375,  603,  335,  807,  931,  855,  771,  175,\n",
       "         83,  667,  347,  895,  759,  211,  835,  227,  763, 1071,  191,\n",
       "        939,  455, 1031,  371,  447,  551,  691,  879,  739,  235,  423,\n",
       "       1171,  983,   47,  235,   19,   99,  423,   59, 1187,  951, 1031,\n",
       "        963,  407,  439,  179, 1035,   15,  207,  723,   31, 1167,  243,\n",
       "        871,  815,  107,  531,  907,  915,  907,  799, 1059,  831,  731,\n",
       "        971,  471,  851,  539,  103,  467,  955,  603,  567, 1159,  355,\n",
       "       1007,  187,  603,   51,  399, 1147,  159,   39,  919,  167,  407,\n",
       "       1167,  491,  195,  243,  991,  939,   31])"
      ]
     },
     "execution_count": 30,
     "metadata": {},
     "output_type": "execute_result"
    }
   ],
   "source": [
    "t2=np.random.choice(t1,size=(271,))\n",
    "t2"
   ]
  },
  {
   "cell_type": "code",
   "execution_count": 31,
   "metadata": {},
   "outputs": [
    {
     "data": {
      "text/plain": [
       "array([836, 698, 583, 532, 513, 729, 545, 951, 722, 229,  49,  28, 803,\n",
       "       781, 212,  73, 231, 936, 603, 974, 411, 638, 920, 819,  49, 570,\n",
       "       280, 894, 939, 313, 903, 460, 861, 848, 814, 982, 831,  25, 846,\n",
       "       110,  13, 244, 756, 774, 210, 514, 677, 137, 798, 789,  43, 557,\n",
       "       358, 358, 517, 840, 503, 836, 840, 121, 337, 194, 941, 983, 501,\n",
       "       362, 288, 181, 432, 647, 642, 100,  64, 375,  81, 642, 258, 883,\n",
       "       356, 655, 653, 368, 877, 536, 388, 590, 230, 709, 297, 247, 990,\n",
       "       315, 129, 732, 984, 903, 841, 689, 681, 557,   3, 567, 723, 102,\n",
       "       801, 927, 988, 677, 463, 943, 857, 100, 369, 473, 701, 580, 748,\n",
       "       377, 106, 371,  34, 826, 720, 812, 613, 358,  35, 413, 175,  99,\n",
       "        44,  41, 321, 563, 683, 540, 677, 580,   3, 144, 626, 571, 539,\n",
       "       960, 181, 207, 770,  47, 150, 168, 652, 963, 132, 867, 806, 320,\n",
       "       535, 949,  71, 715,  56, 451, 480, 555, 742, 974, 717, 576, 594,\n",
       "       123, 104, 299, 287, 310, 463, 553, 142,  23, 603, 772, 424, 417,\n",
       "       457,  24, 325, 607, 214, 716, 653, 924, 509, 950, 807, 364, 770,\n",
       "       788,  11, 183, 454,  72, 308, 885, 867, 246, 970, 829, 239, 113,\n",
       "       586, 393, 749, 873, 233, 280, 460, 909, 715, 660, 470, 531, 204,\n",
       "       879, 362, 635, 146, 871, 684, 927, 118, 813, 300, 511,  37, 226,\n",
       "       185, 855, 104, 531, 154, 487, 299, 574, 806, 407, 848, 814, 663,\n",
       "       800, 446, 147, 511, 906, 527,  52, 633, 317, 767, 256, 514,   5,\n",
       "       437, 815, 139,  23, 835, 388, 239, 738, 599,  54, 154, 921, 816,\n",
       "       403, 962, 723, 122, 948, 396, 921, 509, 509, 824, 385, 248, 328,\n",
       "       140, 758, 319,   7, 707, 656, 102, 904, 385,  66, 918, 258, 606,\n",
       "       705, 909, 926,  73, 969, 989, 109, 832, 120, 399, 633, 582,   8,\n",
       "       317, 518, 247, 840, 515, 311, 516, 808, 715, 242, 797, 691, 615,\n",
       "       123, 224, 187, 844, 223, 579, 621, 162, 173, 122,  90, 768, 923,\n",
       "       740, 755, 655, 927, 381, 737, 824, 156, 100, 319, 819, 617, 715,\n",
       "       560, 852, 373, 962, 241, 141, 283, 464, 746, 319, 646, 630, 414,\n",
       "        19, 999, 378, 741, 531,  15, 217, 394, 732, 255, 415, 535, 802,\n",
       "       578, 188, 724, 953,  32, 714, 541,  67, 925, 894, 522, 202, 921,\n",
       "       333, 536, 430,  74, 173, 915, 913,  90, 747, 295, 211, 877, 637,\n",
       "       958, 789, 122, 744, 380, 441, 673, 796, 670, 178, 367, 119, 328,\n",
       "       289, 479, 852,  41, 227, 499, 447, 796, 893, 338, 334, 597, 442,\n",
       "       525, 574, 985, 735, 772, 300, 386, 660, 111, 296, 104, 745, 457,\n",
       "       747, 972, 476, 615, 212, 281, 384, 260, 703, 819, 452,  33, 129,\n",
       "       964, 854, 472, 460, 260, 482, 532, 171,  85, 225, 649, 208, 784,\n",
       "       901, 794, 819, 852, 545, 462, 294, 563, 503, 605,  54, 542, 399,\n",
       "       235, 108, 314, 519, 702, 215, 121, 826, 266, 781, 118, 659, 617,\n",
       "       598,  22, 641, 627, 994, 120, 569, 282,  73, 320, 955, 646, 578,\n",
       "       356, 840,  60, 787, 618, 602, 125, 688, 918, 109, 618, 545, 447,\n",
       "       381,  49, 827, 220, 989, 638, 517, 975, 835, 696, 961, 440,   6,\n",
       "       803, 854,  95, 259, 843, 809, 399, 254, 707, 865, 913, 951, 364,\n",
       "       559, 689, 854, 260,  46, 981, 191, 565, 924, 558, 276, 212, 604,\n",
       "       877, 663, 333, 623, 580, 701, 310, 595, 217, 502, 966, 467, 689,\n",
       "       297, 606, 930,  12, 682, 300, 780, 139, 966, 299, 592,  50, 103,\n",
       "       638, 190, 537, 707, 437, 363, 158,  39, 496, 968, 837, 859, 864,\n",
       "       899,  20, 361, 172, 518, 756, 504, 858, 640, 741, 708, 847, 110,\n",
       "        66, 593, 505, 293, 440, 847, 339, 179, 907, 364, 716, 144, 677,\n",
       "       393, 969, 402, 933, 605, 245, 347, 805, 907, 682, 265, 246, 266,\n",
       "       240, 236,   7, 572, 810, 590, 861, 653, 407, 933,  44, 113, 775,\n",
       "       510, 457, 949, 950, 797, 839,  44, 479, 159, 212,  71,  84, 519,\n",
       "       595, 615, 285, 409, 808, 911, 476, 754, 809, 890, 871, 984, 700,\n",
       "       624, 911, 985, 627,  57, 850, 263, 576, 297, 916,  52, 847, 393,\n",
       "       492, 261, 318, 791, 960, 736, 129, 112, 389, 728, 634, 375, 338,\n",
       "       554, 734, 512, 678, 739, 511, 321, 604, 726, 470, 402, 769, 421,\n",
       "       588, 785, 282, 931,  80, 969, 958, 919, 809, 321, 447, 825, 182,\n",
       "       404, 711, 535,  50, 933, 655, 744, 150,  86, 827, 752, 570, 728,\n",
       "         8, 626, 695, 952, 691, 701, 469, 397, 751, 218, 554,  32,  73,\n",
       "       636, 107, 184, 560, 644, 691,  57, 680, 838, 778, 466, 873, 895,\n",
       "       283, 309, 452, 244, 566, 845, 918, 932, 100, 551, 378, 108, 697,\n",
       "       210, 208, 611, 170, 469, 610, 312, 645, 908, 696, 588, 294, 829,\n",
       "       660, 257,  71, 239,  82, 904, 515, 509, 406, 311, 826, 658, 891,\n",
       "        38, 643, 441,  50, 799,  81, 357,  82, 396,  26, 720, 928,  26,\n",
       "       322, 804, 974, 231,  78, 160, 140, 972, 355, 742, 259, 300, 285,\n",
       "       143, 410, 509, 553, 951, 880, 428, 769, 485, 889, 985, 701, 407,\n",
       "       515,  74,  23, 953, 377, 116, 344, 412, 437, 648, 184, 394, 424,\n",
       "        46, 270, 868, 330,  52, 992, 158,  97, 393, 745, 732, 534, 180,\n",
       "       686,  75,  96,   2, 970, 778, 725, 764, 386, 497, 656, 547, 821,\n",
       "       704, 629, 450, 640, 264, 557, 667, 491, 517, 486, 294, 897, 477,\n",
       "       999, 292, 983, 535, 863, 985, 318, 726, 313, 881, 540, 922, 580,\n",
       "       697, 218, 113, 932, 574, 207, 816, 448, 491, 306, 509, 718, 367,\n",
       "       535, 444, 625, 368, 851,  51, 361, 516, 660, 298,  42,  12, 591,\n",
       "        49,  83, 197, 669, 543, 831, 921, 367, 413, 485, 916, 177, 118,\n",
       "       201, 551, 855, 562,  85, 950, 430, 160, 181, 196, 580])"
      ]
     },
     "execution_count": 31,
     "metadata": {},
     "output_type": "execute_result"
    }
   ],
   "source": [
    "a=np.random.randint(0,1000,960)\n",
    "a"
   ]
  },
  {
   "cell_type": "code",
   "execution_count": 32,
   "metadata": {},
   "outputs": [
    {
     "data": {
      "text/plain": [
       "960"
      ]
     },
     "execution_count": 32,
     "metadata": {},
     "output_type": "execute_result"
    }
   ],
   "source": [
    "len(a)"
   ]
  },
  {
   "cell_type": "code",
   "execution_count": null,
   "metadata": {},
   "outputs": [],
   "source": []
  }
 ],
 "metadata": {
  "kernelspec": {
   "display_name": "Python 3",
   "language": "python",
   "name": "python3"
  },
  "language_info": {
   "codemirror_mode": {
    "name": "ipython",
    "version": 3
   },
   "file_extension": ".py",
   "mimetype": "text/x-python",
   "name": "python",
   "nbconvert_exporter": "python",
   "pygments_lexer": "ipython3",
   "version": "3.8.3"
  }
 },
 "nbformat": 4,
 "nbformat_minor": 2
}
